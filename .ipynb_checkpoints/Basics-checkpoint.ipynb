{
 "cells": [
  {
   "cell_type": "markdown",
   "metadata": {},
   "source": [
    "# Arrays\n",
    "\n"
   ]
  },
  {
   "cell_type": "markdown",
   "metadata": {},
   "source": [
    "### 1 Dimensional Array"
   ]
  },
  {
   "cell_type": "markdown",
   "metadata": {},
   "source": [
    "**How to declare and initialize static array:**\n",
    "\n",
    "int i1[]= new int[5];\n",
    "i1[0]=1;\n",
    "i1[1]=2;\n",
    "i1[2]=3;\n",
    "i1[3]=4;\n",
    "i1[4]=5;"
   ]
  },
  {
   "cell_type": "markdown",
   "metadata": {},
   "source": [
    "**How to declare and initialize dynamic array:**\n",
    "\n",
    "int i2[] = {1,2,3,4,5};"
   ]
  },
  {
   "cell_type": "markdown",
   "metadata": {},
   "source": [
    "**iterate over array using index**\n",
    "\n",
    "int len1 = i1.length;\n",
    "\n",
    "for(int i=0;i<len1;i++){\n",
    "\n",
    "    System.out.print(i1[j] + \" \");  \n",
    "\n",
    "}  \n",
    "\n",
    "System.out.println(\"***********\")"
   ]
  },
  {
   "cell_type": "markdown",
   "metadata": {},
   "source": [
    "**Iterate over array using for-each loop:**  \n",
    "\n",
    "for(int i: i2){    \n",
    "\n",
    "    System.out.print(i + \" \");  \n",
    "\n",
    "}  \n",
    "\n",
    "System.out.println(\"***********\")  "
   ]
  },
  {
   "cell_type": "code",
   "execution_count": null,
   "metadata": {
    "vscode": {
     "languageId": "plaintext"
    }
   },
   "outputs": [],
   "source": []
  }
 ],
 "metadata": {
  "language_info": {
   "name": "python"
  }
 },
 "nbformat": 4,
 "nbformat_minor": 2
}
