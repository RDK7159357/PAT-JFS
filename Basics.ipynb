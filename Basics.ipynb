{
 "cells": [
  {
   "cell_type": "markdown",
   "metadata": {},
   "source": [
    "# Arrays\n",
    "\n"
   ]
  },
  {
   "cell_type": "markdown",
   "metadata": {},
   "source": [
    "### 1 Dimensional Array"
   ]
  },
  {
   "cell_type": "markdown",
   "metadata": {},
   "source": [
    "**How to declare and initialize static array:**\n",
    "\n",
    "int i1[]= new int[5];\n",
    "i1[0]=1;  \n",
    "i1[1]=2;  \n",
    "i1[2]=3;  \n",
    "i1[3]=4;  \n",
    "i1[4]=5;  "
   ]
  },
  {
   "cell_type": "markdown",
   "metadata": {},
   "source": [
    "**How to declare and initialize dynamic array:**\n",
    "\n",
    "int i2[] = {1,2,3,4,5};"
   ]
  },
  {
   "cell_type": "markdown",
   "metadata": {},
   "source": [
    "**iterate over array using index**\n",
    "\n",
    "int len1 = i1.length;\n",
    "\n",
    "for(int i=0;i<len1;i++){\n",
    "\n",
    "    System.out.print(i1[j] + \" \");  \n",
    "\n",
    "}  \n",
    "\n",
    "System.out.println(\"\\n***********\")"
   ]
  },
  {
   "cell_type": "markdown",
   "metadata": {},
   "source": [
    "**Iterate over array using for-each loop:**  \n",
    "\n",
    "for(int i: i2){    \n",
    "\n",
    "    System.out.print(i + \" \");  \n",
    "\n",
    "}  \n",
    "\n",
    "System.out.println(\"\\n***********\")  "
   ]
  },
  {
   "cell_type": "markdown",
   "metadata": {
    "vscode": {
     "languageId": "plaintext"
    }
   },
   "source": [
    "### 2 Dimensional Array"
   ]
  },
  {
   "cell_type": "markdown",
   "metadata": {},
   "source": [
    "**How to declare and initialize static 2d array:**\n",
    "\n",
    "int i1[][]= new int[2][3];  \n",
    "i[0][0] = 1; i[0][1] = 2; i[0][2] = 3;  \n",
    "i[1][0] = 4; i[1][1] = 5; i[1][2] = 6;  \n",
    "\n",
    "\n",
    "**dynamic 2d array declaration and initialization**\n",
    "\n",
    "\n",
    "\n",
    "int i2[][] = {{1,2,3},{4,5,6}};  \n",
    "\n",
    "\n",
    "**iterate using index**  \n",
    "\n",
    "\n",
    "\n",
    "int len1 = i1.length; // row length, 2    \n",
    "\n",
    "for(int i=0;i<len1;i++  \n",
    "{  \n",
    "    int len2 = i1[i].length; // cols len in each row, 3  \n",
    "    \n",
    "    for(int j=0;<len2;j++){  \n",
    "    \n",
    "        System.out.print(i1[i][j] + \" \" );  \n",
    "        \n",
    "    }  \n",
    "    System.out.println(\"\\n***************\")  \n",
    "    \n",
    "  \n",
    "}  \n",
    "System.out.println(\"\\n***************\")     \n",
    "\n",
    "\n",
    "\n",
    "**using for each loop**  \n",
    "\n",
    "for(int i[] : i2){  \n",
    "\n",
    "    for(int j : i){  \n",
    "        System.out.print(j + \" \" );    \n",
    "    }   \n",
    "    \n",
    "    System.out.println(\"\\n***************\");     \n",
    "}  \n",
    "\n",
    "\n"
   ]
  },
  {
   "cell_type": "markdown",
   "metadata": {},
   "source": [
    "### 3 Dimensional Array\n"
   ]
  },
  {
   "cell_type": "markdown",
   "metadata": {},
   "source": [
    "int i1 [] [] []  = new int [2] [3] [4];  \n",
    "\n",
    "i1[0][0][0] = 1; i1[0][0][1] = 2; i1[0][0][2] = 3;  i1[0][0][3] = 4;  \n",
    "i1[0][1][0] = 5; i1[0][1][1] = 6; i1[0][1][2] = 7;  i1[0][1][3] = 8;  \n",
    "i1[0][2][0] = 9; i1[0][2][1] = 10; i1[0][2][2] = 11;  i1[0][2][3] = 12;  \n",
    "\n",
    "i1[1][0][0] = 13; i1[1][0][1] = 14; i1[1][0][2] = 15;  i1[1][0][3] = 16;  \n",
    "i1[1][1][0] = 17; i1[1][1][1] = 18; i1[1][1][2] = 19;  i1[1][1][3] = 20;  \n",
    "i1[1][2][0] = 21; i1[1][2][1] = 22; i1[1][2][2] = 23;  i1[1][2][3] = 24;  \n",
    "\n",
    "\n"
   ]
  },
  {
   "cell_type": "markdown",
   "metadata": {},
   "source": [
    "int i2[][][] = { \n",
    "                 {{1,2,3,4},{5,6,7,8},{9,10,11,12}},   \n",
    "                 {{13,14,15,16},{17,18,19,20},{21,22,23,24}}     \n",
    "               };  \n",
    "\n",
    "\n",
    "for(int [][] arr : i2){\n",
    "    for(int [] arr1 : arr){\n",
    "        System.out.println(Arrays.toString(arr1));\n",
    "    }\n",
    "}\n",
    "\n"
   ]
  },
  {
   "cell_type": "markdown",
   "metadata": {},
   "source": [
    "**Iterate using index**\n",
    "\n",
    "int len1 = l1.length;  \n",
    "\n",
    "for(int i=0;i<len1;i++){  \n",
    "\n",
    "    int len2 = i1[i].length;  \n",
    "    for(int j=0;j<len2;j++){  \n",
    "        int len3 = i1[i][j].length;  \n",
    "        for(int k=0;k<len3;k++){  \n",
    "            System.out.print(i1[i][j][k] + \" \");  \n",
    "        }  \n",
    "    }  \n",
    "}  "
   ]
  },
  {
   "cell_type": "markdown",
   "metadata": {},
   "source": [
    "## Object Oriented Programming"
   ]
  },
  {
   "cell_type": "markdown",
   "metadata": {},
   "source": [
    "1. Encapsulation\n",
    "2. Abstraction\n",
    "3. Inheritance\n",
    "4. Polymorphism\n",
    "5. Message Passing"
   ]
  },
  {
   "cell_type": "markdown",
   "metadata": {},
   "source": [
    "**Encapsulation**\n",
    "\n"
   ]
  },
  {
   "cell_type": "markdown",
   "metadata": {},
   "source": [
    "#### Access Specifiers\n",
    "\n",
    "  private, default, protected, public\n",
    "\n",
    "#### Access Modifiers\n",
    "\n",
    "  Abstract, Static, final, transient, volatile, native"
   ]
  },
  {
   "cell_type": "markdown",
   "metadata": {},
   "source": [
    "#### Java Programming Structure\n",
    "0. Comments(Single line, multi line, documentation comment(/** *** /))\n",
    "1. Package Declaration\n",
    "2. import statements\n",
    "3. class declaration\n",
    "4. variable declarations\n",
    "5. Constructors Implementation\n",
    "6. Methods Implementation \n",
    "7. Static Block\n",
    "8. non-static block\n",
    " "
   ]
  },
  {
   "cell_type": "markdown",
   "metadata": {},
   "source": [
    "1. Package declaration and import Statements  \n",
    "    Access Specifiers: private(Within class), default(within package), protected(within package and upto subclass), public(everywhere)  \n",
    "    Access Modifiers: abstract, static, final, transient, volatile, native, synchronized  \n",
    "\n",
    "   **The purpose of package declaration is to access class and its members (variables, constructors, methods) outside the class and package**  \n"
   ]
  },
  {
   "cell_type": "code",
   "execution_count": null,
   "metadata": {},
   "outputs": [],
   "source": []
  }
 ],
 "metadata": {
  "kernelspec": {
   "display_name": "Python 3 (ipykernel)",
   "language": "python",
   "name": "python3"
  },
  "language_info": {
   "codemirror_mode": {
    "name": "ipython",
    "version": 3
   },
   "file_extension": ".py",
   "mimetype": "text/x-python",
   "name": "python",
   "nbconvert_exporter": "python",
   "pygments_lexer": "ipython3",
   "version": "3.13.2"
  }
 },
 "nbformat": 4,
 "nbformat_minor": 4
}
